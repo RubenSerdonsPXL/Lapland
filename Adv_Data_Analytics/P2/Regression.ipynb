{
 "cells": [
  {
   "cell_type": "markdown",
   "metadata": {},
   "source": [
    "# Regression Ruben Serdons"
   ]
  },
  {
   "cell_type": "code",
   "execution_count": 32,
   "metadata": {},
   "outputs": [],
   "source": [
    "#Project 2, Ruben Serdons, Website Traffic dataset"
   ]
  },
  {
   "cell_type": "markdown",
   "metadata": {},
   "source": [
    "## Imports\n"
   ]
  },
  {
   "cell_type": "code",
   "execution_count": 33,
   "metadata": {},
   "outputs": [],
   "source": [
    "import pandas as pd\n",
    "import seaborn as sns\n",
    "pd.set_option('display.float_format', '{:.3f}'.format)"
   ]
  },
  {
   "cell_type": "markdown",
   "metadata": {},
   "source": [
    "## Load data"
   ]
  },
  {
   "cell_type": "code",
   "execution_count": 34,
   "metadata": {},
   "outputs": [],
   "source": [
    "df = pd.read_csv('../Data/website_data.csv')"
   ]
  },
  {
   "cell_type": "code",
   "execution_count": 35,
   "metadata": {},
   "outputs": [
    {
     "name": "stdout",
     "output_type": "stream",
     "text": [
      "(2000, 7)\n"
     ]
    },
    {
     "data": {
      "text/html": [
       "<div>\n",
       "<style scoped>\n",
       "    .dataframe tbody tr th:only-of-type {\n",
       "        vertical-align: middle;\n",
       "    }\n",
       "\n",
       "    .dataframe tbody tr th {\n",
       "        vertical-align: top;\n",
       "    }\n",
       "\n",
       "    .dataframe thead th {\n",
       "        text-align: right;\n",
       "    }\n",
       "</style>\n",
       "<table border=\"1\" class=\"dataframe\">\n",
       "  <thead>\n",
       "    <tr style=\"text-align: right;\">\n",
       "      <th></th>\n",
       "      <th>Page Views</th>\n",
       "      <th>Session Duration</th>\n",
       "      <th>Bounce Rate</th>\n",
       "      <th>Traffic Source</th>\n",
       "      <th>Time on Page</th>\n",
       "      <th>Previous Visits</th>\n",
       "      <th>Conversion Rate</th>\n",
       "    </tr>\n",
       "  </thead>\n",
       "  <tbody>\n",
       "    <tr>\n",
       "      <th>0</th>\n",
       "      <td>5</td>\n",
       "      <td>11.051</td>\n",
       "      <td>0.231</td>\n",
       "      <td>Organic</td>\n",
       "      <td>3.890</td>\n",
       "      <td>3</td>\n",
       "      <td>1.000</td>\n",
       "    </tr>\n",
       "    <tr>\n",
       "      <th>1</th>\n",
       "      <td>4</td>\n",
       "      <td>3.429</td>\n",
       "      <td>0.391</td>\n",
       "      <td>Social</td>\n",
       "      <td>8.478</td>\n",
       "      <td>0</td>\n",
       "      <td>1.000</td>\n",
       "    </tr>\n",
       "    <tr>\n",
       "      <th>2</th>\n",
       "      <td>4</td>\n",
       "      <td>1.621</td>\n",
       "      <td>0.398</td>\n",
       "      <td>Organic</td>\n",
       "      <td>9.636</td>\n",
       "      <td>2</td>\n",
       "      <td>1.000</td>\n",
       "    </tr>\n",
       "    <tr>\n",
       "      <th>3</th>\n",
       "      <td>5</td>\n",
       "      <td>3.629</td>\n",
       "      <td>0.180</td>\n",
       "      <td>Organic</td>\n",
       "      <td>2.072</td>\n",
       "      <td>3</td>\n",
       "      <td>1.000</td>\n",
       "    </tr>\n",
       "    <tr>\n",
       "      <th>4</th>\n",
       "      <td>5</td>\n",
       "      <td>4.236</td>\n",
       "      <td>0.292</td>\n",
       "      <td>Paid</td>\n",
       "      <td>1.961</td>\n",
       "      <td>5</td>\n",
       "      <td>1.000</td>\n",
       "    </tr>\n",
       "  </tbody>\n",
       "</table>\n",
       "</div>"
      ],
      "text/plain": [
       "   Page Views  Session Duration  Bounce Rate Traffic Source  Time on Page  \\\n",
       "0           5            11.051        0.231        Organic         3.890   \n",
       "1           4             3.429        0.391         Social         8.478   \n",
       "2           4             1.621        0.398        Organic         9.636   \n",
       "3           5             3.629        0.180        Organic         2.072   \n",
       "4           5             4.236        0.292           Paid         1.961   \n",
       "\n",
       "   Previous Visits  Conversion Rate  \n",
       "0                3            1.000  \n",
       "1                0            1.000  \n",
       "2                2            1.000  \n",
       "3                3            1.000  \n",
       "4                5            1.000  "
      ]
     },
     "execution_count": 35,
     "metadata": {},
     "output_type": "execute_result"
    }
   ],
   "source": [
    "print(df.shape)\n",
    "df.head()"
   ]
  },
  {
   "cell_type": "markdown",
   "metadata": {},
   "source": [
    "## Data synthetisation with SDV"
   ]
  },
  {
   "cell_type": "markdown",
   "metadata": {},
   "source": [
    "In Deep Learning P1 we used Time On Page as target variable."
   ]
  },
  {
   "cell_type": "code",
   "execution_count": 36,
   "metadata": {},
   "outputs": [
    {
     "data": {
      "text/plain": [
       "<Axes: xlabel='Time on Page', ylabel='Count'>"
      ]
     },
     "execution_count": 36,
     "metadata": {},
     "output_type": "execute_result"
    },
    {
     "data": {
      "image/png": "[encoded data removed]",
      "text/plain": [
       "<Figure size 640x480 with 1 Axes>"
      ]
     },
     "metadata": {},
     "output_type": "display_data"
    }
   ],
   "source": [
    "sns.histplot(data=df, x=\"Time on Page\", kde=True)"
   ]
  },
  {
   "cell_type": "markdown",
   "metadata": {},
   "source": [
    "### SDV -> GaussianCopulaSynthesizer"
   ]
  },
  {
   "cell_type": "code",
   "execution_count": 37,
   "metadata": {},
   "outputs": [
    {
     "name": "stderr",
     "output_type": "stream",
     "text": [
      "c:\\Users\\ruben\\AppData\\Local\\Programs\\Python\\Python310\\lib\\site-packages\\sdv\\single_table\\base.py:104: UserWarning: We strongly recommend saving the metadata using 'save_to_json' for replicability in future SDV versions.\n",
      "  warnings.warn(\n"
     ]
    },
    {
     "data": {
      "text/html": [
       "<div>\n",
       "<style scoped>\n",
       "    .dataframe tbody tr th:only-of-type {\n",
       "        vertical-align: middle;\n",
       "    }\n",
       "\n",
       "    .dataframe tbody tr th {\n",
       "        vertical-align: top;\n",
       "    }\n",
       "\n",
       "    .dataframe thead th {\n",
       "        text-align: right;\n",
       "    }\n",
       "</style>\n",
       "<table border=\"1\" class=\"dataframe\">\n",
       "  <thead>\n",
       "    <tr style=\"text-align: right;\">\n",
       "      <th></th>\n",
       "      <th>Page Views</th>\n",
       "      <th>Session Duration</th>\n",
       "      <th>Bounce Rate</th>\n",
       "      <th>Traffic Source</th>\n",
       "      <th>Time on Page</th>\n",
       "      <th>Previous Visits</th>\n",
       "      <th>Conversion Rate</th>\n",
       "    </tr>\n",
       "  </thead>\n",
       "  <tbody>\n",
       "    <tr>\n",
       "      <th>0</th>\n",
       "      <td>5</td>\n",
       "      <td>2.219</td>\n",
       "      <td>0.461</td>\n",
       "      <td>Paid</td>\n",
       "      <td>7.974</td>\n",
       "      <td>1</td>\n",
       "      <td>1.000</td>\n",
       "    </tr>\n",
       "    <tr>\n",
       "      <th>1</th>\n",
       "      <td>9</td>\n",
       "      <td>1.310</td>\n",
       "      <td>0.184</td>\n",
       "      <td>Organic</td>\n",
       "      <td>1.193</td>\n",
       "      <td>0</td>\n",
       "      <td>0.996</td>\n",
       "    </tr>\n",
       "    <tr>\n",
       "      <th>2</th>\n",
       "      <td>4</td>\n",
       "      <td>0.631</td>\n",
       "      <td>0.230</td>\n",
       "      <td>Organic</td>\n",
       "      <td>4.382</td>\n",
       "      <td>1</td>\n",
       "      <td>0.990</td>\n",
       "    </tr>\n",
       "    <tr>\n",
       "      <th>3</th>\n",
       "      <td>5</td>\n",
       "      <td>5.209</td>\n",
       "      <td>0.652</td>\n",
       "      <td>Organic</td>\n",
       "      <td>4.246</td>\n",
       "      <td>1</td>\n",
       "      <td>0.996</td>\n",
       "    </tr>\n",
       "    <tr>\n",
       "      <th>4</th>\n",
       "      <td>2</td>\n",
       "      <td>2.557</td>\n",
       "      <td>0.136</td>\n",
       "      <td>Social</td>\n",
       "      <td>2.710</td>\n",
       "      <td>0</td>\n",
       "      <td>1.000</td>\n",
       "    </tr>\n",
       "    <tr>\n",
       "      <th>...</th>\n",
       "      <td>...</td>\n",
       "      <td>...</td>\n",
       "      <td>...</td>\n",
       "      <td>...</td>\n",
       "      <td>...</td>\n",
       "      <td>...</td>\n",
       "      <td>...</td>\n",
       "    </tr>\n",
       "    <tr>\n",
       "      <th>1995</th>\n",
       "      <td>2</td>\n",
       "      <td>2.205</td>\n",
       "      <td>0.198</td>\n",
       "      <td>Organic</td>\n",
       "      <td>5.322</td>\n",
       "      <td>2</td>\n",
       "      <td>0.999</td>\n",
       "    </tr>\n",
       "    <tr>\n",
       "      <th>1996</th>\n",
       "      <td>5</td>\n",
       "      <td>0.467</td>\n",
       "      <td>0.385</td>\n",
       "      <td>Organic</td>\n",
       "      <td>1.293</td>\n",
       "      <td>1</td>\n",
       "      <td>0.991</td>\n",
       "    </tr>\n",
       "    <tr>\n",
       "      <th>1997</th>\n",
       "      <td>2</td>\n",
       "      <td>1.798</td>\n",
       "      <td>0.285</td>\n",
       "      <td>Organic</td>\n",
       "      <td>4.699</td>\n",
       "      <td>1</td>\n",
       "      <td>0.996</td>\n",
       "    </tr>\n",
       "    <tr>\n",
       "      <th>1998</th>\n",
       "      <td>4</td>\n",
       "      <td>1.467</td>\n",
       "      <td>0.132</td>\n",
       "      <td>Referral</td>\n",
       "      <td>2.740</td>\n",
       "      <td>3</td>\n",
       "      <td>0.997</td>\n",
       "    </tr>\n",
       "    <tr>\n",
       "      <th>1999</th>\n",
       "      <td>2</td>\n",
       "      <td>0.591</td>\n",
       "      <td>0.143</td>\n",
       "      <td>Direct</td>\n",
       "      <td>0.568</td>\n",
       "      <td>3</td>\n",
       "      <td>0.965</td>\n",
       "    </tr>\n",
       "  </tbody>\n",
       "</table>\n",
       "<p>2000 rows × 7 columns</p>\n",
       "</div>"
      ],
      "text/plain": [
       "      Page Views  Session Duration  Bounce Rate Traffic Source  Time on Page  \\\n",
       "0              5             2.219        0.461           Paid         7.974   \n",
       "1              9             1.310        0.184        Organic         1.193   \n",
       "2              4             0.631        0.230        Organic         4.382   \n",
       "3              5             5.209        0.652        Organic         4.246   \n",
       "4              2             2.557        0.136         Social         2.710   \n",
       "...          ...               ...          ...            ...           ...   \n",
       "1995           2             2.205        0.198        Organic         5.322   \n",
       "1996           5             0.467        0.385        Organic         1.293   \n",
       "1997           2             1.798        0.285        Organic         4.699   \n",
       "1998           4             1.467        0.132       Referral         2.740   \n",
       "1999           2             0.591        0.143         Direct         0.568   \n",
       "\n",
       "      Previous Visits  Conversion Rate  \n",
       "0                   1            1.000  \n",
       "1                   0            0.996  \n",
       "2                   1            0.990  \n",
       "3                   1            0.996  \n",
       "4                   0            1.000  \n",
       "...               ...              ...  \n",
       "1995                2            0.999  \n",
       "1996                1            0.991  \n",
       "1997                1            0.996  \n",
       "1998                3            0.997  \n",
       "1999                3            0.965  \n",
       "\n",
       "[2000 rows x 7 columns]"
      ]
     },
     "execution_count": 37,
     "metadata": {},
     "output_type": "execute_result"
    }
   ],
   "source": [
    "#%pip install sdv\n",
    "from sdv.single_table import GaussianCopulaSynthesizer\n",
    "from sdv.metadata import Metadata\n",
    "\n",
    "# sidenote: SDV + Copula can potentially use lots of RAM\n",
    "# if there's a lot of original data\n",
    "\n",
    "# current version of SDV requires a Metadata-object\n",
    "# but it's enough you just wrap the DataFrame into it\n",
    "metadata = Metadata.detect_from_dataframes(\n",
    "    data={'website_traffic': df}\n",
    ")\n",
    "\n",
    "# initialize the Gaussian Copula Model\n",
    "model = GaussianCopulaSynthesizer(metadata)\n",
    "\n",
    "# fit the model\n",
    "model.fit(df)\n",
    "\n",
    "# use the model to generate 1000 new data rows\n",
    "synthetic_data = model.sample(num_rows=2000)\n",
    "\n",
    "synthetic_data"
   ]
  },
  {
   "cell_type": "code",
   "execution_count": 38,
   "metadata": {},
   "outputs": [],
   "source": [
    "# combine the synthetic data with the original one\n",
    "df = pd.concat([df, synthetic_data])"
   ]
  },
  {
   "cell_type": "code",
   "execution_count": 39,
   "metadata": {},
   "outputs": [
    {
     "data": {
      "text/plain": [
       "<Axes: xlabel='Time on Page', ylabel='Count'>"
      ]
     },
     "execution_count": 39,
     "metadata": {},
     "output_type": "execute_result"
    },
    {
     "data": {
      "image/png": "[encoded data removed]",
      "text/plain": [
       "<Figure size 640x480 with 1 Axes>"
      ]
     },
     "metadata": {},
     "output_type": "display_data"
    }
   ],
   "source": [
    "sns.histplot(data=df, x=\"Time on Page\", kde=True)"
   ]
  },
  {
   "cell_type": "markdown",
   "metadata": {},
   "source": [
    "## Undersampling "
   ]
  },
  {
   "cell_type": "code",
   "execution_count": 40,
   "metadata": {},
   "outputs": [],
   "source": [
    "# first we need to encode the \"Traffic source\" column\n",
    "from sklearn.preprocessing import LabelEncoder\n",
    "\n",
    "encoder = LabelEncoder()\n",
    "df['Traffic Source'] = encoder.fit_transform(df['Traffic Source'])\n"
   ]
  },
  {
   "cell_type": "code",
   "execution_count": 41,
   "metadata": {},
   "outputs": [],
   "source": [
    "from imblearn.under_sampling import RandomUnderSampler, ClusterCentroids\n",
    "pd.set_option('display.float_format', '{:.2f}'.format)\n",
    "\n",
    "# removing some outliers first to make it easier to undesrample in the future\n",
    "# can process the whole dataset \n",
    "# and compares variables to each other instead\n",
    "# of focusing on outliers on a single variable\n",
    "from sklearn.ensemble import IsolationForest\n",
    "\n",
    "# adjust the contamination rate as you see fit\n",
    "# for example, if you expect 5% of the data to be outliers\n",
    "# you can use 0.05 etc. \n",
    "iso = IsolationForest(contamination=0.1) \n",
    "\n",
    "# fit isolation forest\n",
    "y_pred = iso.fit_predict(df)\n",
    "\n",
    "# filter outliers only\n",
    "outliers = df[y_pred != 1]\n",
    "df = df.drop(outliers.index)\n"
   ]
  },
  {
   "cell_type": "code",
   "execution_count": 42,
   "metadata": {},
   "outputs": [
    {
     "data": {
      "text/html": [
       "<div>\n",
       "<style scoped>\n",
       "    .dataframe tbody tr th:only-of-type {\n",
       "        vertical-align: middle;\n",
       "    }\n",
       "\n",
       "    .dataframe tbody tr th {\n",
       "        vertical-align: top;\n",
       "    }\n",
       "\n",
       "    .dataframe thead th {\n",
       "        text-align: right;\n",
       "    }\n",
       "</style>\n",
       "<table border=\"1\" class=\"dataframe\">\n",
       "  <thead>\n",
       "    <tr style=\"text-align: right;\">\n",
       "      <th></th>\n",
       "      <th>Page Views</th>\n",
       "      <th>Session Duration</th>\n",
       "      <th>Bounce Rate</th>\n",
       "      <th>Traffic Source</th>\n",
       "      <th>Time on Page</th>\n",
       "      <th>Previous Visits</th>\n",
       "      <th>Conversion Rate</th>\n",
       "    </tr>\n",
       "  </thead>\n",
       "  <tbody>\n",
       "    <tr>\n",
       "      <th>16</th>\n",
       "      <td>6</td>\n",
       "      <td>18.34</td>\n",
       "      <td>0.34</td>\n",
       "      <td>3</td>\n",
       "      <td>2.98</td>\n",
       "      <td>0</td>\n",
       "      <td>1.00</td>\n",
       "    </tr>\n",
       "    <tr>\n",
       "      <th>20</th>\n",
       "      <td>11</td>\n",
       "      <td>0.79</td>\n",
       "      <td>0.25</td>\n",
       "      <td>1</td>\n",
       "      <td>11.69</td>\n",
       "      <td>5</td>\n",
       "      <td>1.00</td>\n",
       "    </tr>\n",
       "    <tr>\n",
       "      <th>28</th>\n",
       "      <td>3</td>\n",
       "      <td>0.82</td>\n",
       "      <td>0.16</td>\n",
       "      <td>3</td>\n",
       "      <td>15.02</td>\n",
       "      <td>3</td>\n",
       "      <td>1.00</td>\n",
       "    </tr>\n",
       "    <tr>\n",
       "      <th>29</th>\n",
       "      <td>2</td>\n",
       "      <td>3.51</td>\n",
       "      <td>0.14</td>\n",
       "      <td>4</td>\n",
       "      <td>1.55</td>\n",
       "      <td>0</td>\n",
       "      <td>0.96</td>\n",
       "    </tr>\n",
       "    <tr>\n",
       "      <th>31</th>\n",
       "      <td>3</td>\n",
       "      <td>0.24</td>\n",
       "      <td>0.44</td>\n",
       "      <td>3</td>\n",
       "      <td>2.64</td>\n",
       "      <td>2</td>\n",
       "      <td>0.87</td>\n",
       "    </tr>\n",
       "    <tr>\n",
       "      <th>...</th>\n",
       "      <td>...</td>\n",
       "      <td>...</td>\n",
       "      <td>...</td>\n",
       "      <td>...</td>\n",
       "      <td>...</td>\n",
       "      <td>...</td>\n",
       "      <td>...</td>\n",
       "    </tr>\n",
       "    <tr>\n",
       "      <th>1934</th>\n",
       "      <td>4</td>\n",
       "      <td>2.54</td>\n",
       "      <td>0.13</td>\n",
       "      <td>4</td>\n",
       "      <td>14.29</td>\n",
       "      <td>6</td>\n",
       "      <td>1.00</td>\n",
       "    </tr>\n",
       "    <tr>\n",
       "      <th>1940</th>\n",
       "      <td>4</td>\n",
       "      <td>8.43</td>\n",
       "      <td>0.54</td>\n",
       "      <td>0</td>\n",
       "      <td>9.99</td>\n",
       "      <td>1</td>\n",
       "      <td>0.99</td>\n",
       "    </tr>\n",
       "    <tr>\n",
       "      <th>1942</th>\n",
       "      <td>8</td>\n",
       "      <td>0.62</td>\n",
       "      <td>0.58</td>\n",
       "      <td>4</td>\n",
       "      <td>1.85</td>\n",
       "      <td>3</td>\n",
       "      <td>0.98</td>\n",
       "    </tr>\n",
       "    <tr>\n",
       "      <th>1971</th>\n",
       "      <td>8</td>\n",
       "      <td>17.45</td>\n",
       "      <td>0.07</td>\n",
       "      <td>1</td>\n",
       "      <td>4.20</td>\n",
       "      <td>2</td>\n",
       "      <td>1.00</td>\n",
       "    </tr>\n",
       "    <tr>\n",
       "      <th>1981</th>\n",
       "      <td>4</td>\n",
       "      <td>14.20</td>\n",
       "      <td>0.33</td>\n",
       "      <td>4</td>\n",
       "      <td>1.96</td>\n",
       "      <td>2</td>\n",
       "      <td>1.00</td>\n",
       "    </tr>\n",
       "  </tbody>\n",
       "</table>\n",
       "<p>400 rows × 7 columns</p>\n",
       "</div>"
      ],
      "text/plain": [
       "      Page Views  Session Duration  Bounce Rate  Traffic Source  Time on Page  \\\n",
       "16             6             18.34         0.34               3          2.98   \n",
       "20            11              0.79         0.25               1         11.69   \n",
       "28             3              0.82         0.16               3         15.02   \n",
       "29             2              3.51         0.14               4          1.55   \n",
       "31             3              0.24         0.44               3          2.64   \n",
       "...          ...               ...          ...             ...           ...   \n",
       "1934           4              2.54         0.13               4         14.29   \n",
       "1940           4              8.43         0.54               0          9.99   \n",
       "1942           8              0.62         0.58               4          1.85   \n",
       "1971           8             17.45         0.07               1          4.20   \n",
       "1981           4             14.20         0.33               4          1.96   \n",
       "\n",
       "      Previous Visits  Conversion Rate  \n",
       "16                  0             1.00  \n",
       "20                  5             1.00  \n",
       "28                  3             1.00  \n",
       "29                  0             0.96  \n",
       "31                  2             0.87  \n",
       "...               ...              ...  \n",
       "1934                6             1.00  \n",
       "1940                1             0.99  \n",
       "1942                3             0.98  \n",
       "1971                2             1.00  \n",
       "1981                2             1.00  \n",
       "\n",
       "[400 rows x 7 columns]"
      ]
     },
     "execution_count": 42,
     "metadata": {},
     "output_type": "execute_result"
    }
   ],
   "source": [
    "outliers"
   ]
  },
  {
   "cell_type": "code",
   "execution_count": 43,
   "metadata": {},
   "outputs": [
    {
     "data": {
      "text/plain": [
       "<Axes: xlabel='Time on Page', ylabel='Count'>"
      ]
     },
     "execution_count": 43,
     "metadata": {},
     "output_type": "execute_result"
    },
    {
     "data": {
      "image/png": "[encoded data removed]",
      "text/plain": [
       "<Figure size 640x480 with 1 Axes>"
      ]
     },
     "metadata": {},
     "output_type": "display_data"
    }
   ],
   "source": [
    "# histogram to see the distribution of target variable\n",
    "sns.histplot(data=df, x=\"Time on Page\", kde=True)"
   ]
  },
  {
   "cell_type": "markdown",
   "metadata": {},
   "source": [
    "We could even remove more from the high end"
   ]
  },
  {
   "cell_type": "code",
   "execution_count": 44,
   "metadata": {},
   "outputs": [],
   "source": [
    "import numpy as np\n",
    "\n",
    "variable = \"Time on Page\"\n",
    "\n",
    "Q1 = df[variable].quantile(0)\n",
    "Q3 = df[variable].quantile(0.7)\n",
    "\n",
    "# Calculate IQR\n",
    "IQR = Q3 - Q1\n",
    "\n",
    "# Define bounds for outliers\n",
    "lower_bound = Q1 - 1.5 * IQR\n",
    "upper_bound = Q3 + 1.5 * IQR\n",
    "\n",
    "# Detect outliers\n",
    "outliers = df[(df[variable] < lower_bound) | (df[variable] > upper_bound)]\n",
    "df = df.drop(outliers.index)"
   ]
  },
  {
   "cell_type": "code",
   "execution_count": 45,
   "metadata": {},
   "outputs": [
    {
     "data": {
      "text/html": [
       "<div>\n",
       "<style scoped>\n",
       "    .dataframe tbody tr th:only-of-type {\n",
       "        vertical-align: middle;\n",
       "    }\n",
       "\n",
       "    .dataframe tbody tr th {\n",
       "        vertical-align: top;\n",
       "    }\n",
       "\n",
       "    .dataframe thead th {\n",
       "        text-align: right;\n",
       "    }\n",
       "</style>\n",
       "<table border=\"1\" class=\"dataframe\">\n",
       "  <thead>\n",
       "    <tr style=\"text-align: right;\">\n",
       "      <th></th>\n",
       "      <th>Page Views</th>\n",
       "      <th>Session Duration</th>\n",
       "      <th>Bounce Rate</th>\n",
       "      <th>Traffic Source</th>\n",
       "      <th>Time on Page</th>\n",
       "      <th>Previous Visits</th>\n",
       "      <th>Conversion Rate</th>\n",
       "    </tr>\n",
       "  </thead>\n",
       "  <tbody>\n",
       "    <tr>\n",
       "      <th>count</th>\n",
       "      <td>3206.00</td>\n",
       "      <td>3206.00</td>\n",
       "      <td>3206.00</td>\n",
       "      <td>3206.00</td>\n",
       "      <td>3206.00</td>\n",
       "      <td>3206.00</td>\n",
       "      <td>3206.00</td>\n",
       "    </tr>\n",
       "    <tr>\n",
       "      <th>mean</th>\n",
       "      <td>4.96</td>\n",
       "      <td>2.94</td>\n",
       "      <td>0.27</td>\n",
       "      <td>1.76</td>\n",
       "      <td>3.88</td>\n",
       "      <td>1.96</td>\n",
       "      <td>1.00</td>\n",
       "    </tr>\n",
       "    <tr>\n",
       "      <th>std</th>\n",
       "      <td>2.09</td>\n",
       "      <td>2.77</td>\n",
       "      <td>0.15</td>\n",
       "      <td>1.18</td>\n",
       "      <td>2.39</td>\n",
       "      <td>1.38</td>\n",
       "      <td>0.01</td>\n",
       "    </tr>\n",
       "    <tr>\n",
       "      <th>min</th>\n",
       "      <td>0.00</td>\n",
       "      <td>0.00</td>\n",
       "      <td>0.01</td>\n",
       "      <td>0.00</td>\n",
       "      <td>0.07</td>\n",
       "      <td>0.00</td>\n",
       "      <td>0.81</td>\n",
       "    </tr>\n",
       "    <tr>\n",
       "      <th>25%</th>\n",
       "      <td>3.00</td>\n",
       "      <td>0.86</td>\n",
       "      <td>0.16</td>\n",
       "      <td>1.00</td>\n",
       "      <td>2.06</td>\n",
       "      <td>1.00</td>\n",
       "      <td>1.00</td>\n",
       "    </tr>\n",
       "    <tr>\n",
       "      <th>50%</th>\n",
       "      <td>5.00</td>\n",
       "      <td>2.08</td>\n",
       "      <td>0.26</td>\n",
       "      <td>1.00</td>\n",
       "      <td>3.42</td>\n",
       "      <td>2.00</td>\n",
       "      <td>1.00</td>\n",
       "    </tr>\n",
       "    <tr>\n",
       "      <th>75%</th>\n",
       "      <td>6.00</td>\n",
       "      <td>4.19</td>\n",
       "      <td>0.37</td>\n",
       "      <td>3.00</td>\n",
       "      <td>5.29</td>\n",
       "      <td>3.00</td>\n",
       "      <td>1.00</td>\n",
       "    </tr>\n",
       "    <tr>\n",
       "      <th>max</th>\n",
       "      <td>14.00</td>\n",
       "      <td>19.93</td>\n",
       "      <td>0.84</td>\n",
       "      <td>4.00</td>\n",
       "      <td>12.08</td>\n",
       "      <td>9.00</td>\n",
       "      <td>1.00</td>\n",
       "    </tr>\n",
       "  </tbody>\n",
       "</table>\n",
       "</div>"
      ],
      "text/plain": [
       "       Page Views  Session Duration  Bounce Rate  Traffic Source  \\\n",
       "count     3206.00           3206.00      3206.00         3206.00   \n",
       "mean         4.96              2.94         0.27            1.76   \n",
       "std          2.09              2.77         0.15            1.18   \n",
       "min          0.00              0.00         0.01            0.00   \n",
       "25%          3.00              0.86         0.16            1.00   \n",
       "50%          5.00              2.08         0.26            1.00   \n",
       "75%          6.00              4.19         0.37            3.00   \n",
       "max         14.00             19.93         0.84            4.00   \n",
       "\n",
       "       Time on Page  Previous Visits  Conversion Rate  \n",
       "count       3206.00          3206.00          3206.00  \n",
       "mean           3.88             1.96             1.00  \n",
       "std            2.39             1.38             0.01  \n",
       "min            0.07             0.00             0.81  \n",
       "25%            2.06             1.00             1.00  \n",
       "50%            3.42             2.00             1.00  \n",
       "75%            5.29             3.00             1.00  \n",
       "max           12.08             9.00             1.00  "
      ]
     },
     "execution_count": 45,
     "metadata": {},
     "output_type": "execute_result"
    }
   ],
   "source": [
    "df.describe()"
   ]
  },
  {
   "cell_type": "markdown",
   "metadata": {},
   "source": [
    "Now let us check the new distribution"
   ]
  },
  {
   "cell_type": "code",
   "execution_count": 46,
   "metadata": {},
   "outputs": [
    {
     "data": {
      "text/plain": [
       "<Axes: xlabel='Time on Page', ylabel='Count'>"
      ]
     },
     "execution_count": 46,
     "metadata": {},
     "output_type": "execute_result"
    },
    {
     "data": {
      "image/png": "[encoded data removed]",
      "text/plain": [
       "<Figure size 640x480 with 1 Axes>"
      ]
     },
     "metadata": {},
     "output_type": "display_data"
    }
   ],
   "source": [
    "sns.histplot(data=df, x=\"Time on Page\", kde=True)"
   ]
  },
  {
   "cell_type": "markdown",
   "metadata": {},
   "source": [
    "Now the undersampling"
   ]
  },
  {
   "cell_type": "code",
   "execution_count": 47,
   "metadata": {},
   "outputs": [],
   "source": [
    "# most of the data sampling and generation methods\n",
    "# only work for classification targets\n",
    "# we can still use these methods if we create a temporary binned\n",
    "# version of our continuous variable. Just make sure you have enough \n",
    "# to capture the main idea of the whole target variable trend\n",
    "target = \"Time on Page\"\n",
    "df['target_binned'] = pd.cut(df[target], bins=8, labels=False)"
   ]
  },
  {
   "cell_type": "code",
   "execution_count": 48,
   "metadata": {},
   "outputs": [
    {
     "data": {
      "text/plain": [
       "<Axes: xlabel='target_binned', ylabel='Count'>"
      ]
     },
     "execution_count": 48,
     "metadata": {},
     "output_type": "execute_result"
    },
    {
     "data": {
      "image/png": "[encoded data removed]",
      "text/plain": [
       "<Figure size 640x480 with 1 Axes>"
      ]
     },
     "metadata": {},
     "output_type": "display_data"
    }
   ],
   "source": [
    "sns.histplot(data=df, x=\"target_binned\", kde=True)"
   ]
  },
  {
   "cell_type": "code",
   "execution_count": 49,
   "metadata": {},
   "outputs": [
    {
     "data": {
      "text/plain": [
       "target_binned\n",
       "1    917\n",
       "2    730\n",
       "0    508\n",
       "3    477\n",
       "4    285\n",
       "5    167\n",
       "6     93\n",
       "7     29\n",
       "Name: count, dtype: int64"
      ]
     },
     "execution_count": 49,
     "metadata": {},
     "output_type": "execute_result"
    }
   ],
   "source": [
    "# let's have value counts, these are handy when \n",
    "# we use a sampling strategy\n",
    "df['target_binned'].value_counts()"
   ]
  },
  {
   "cell_type": "code",
   "execution_count": 51,
   "metadata": {},
   "outputs": [],
   "source": [
    "# the variables minus \"target\" variable\n",
    "# of course the real target variable is \"Time on Page\"\n",
    "# but since we are optimizing data here, we are using the binned-version\n",
    "# as the \"target variable\"\n",
    "variables = df.drop('target_binned', axis=1).columns\n",
    "X = df[variables]\n",
    "y = df['target_binned']\n",
    "\n",
    "# initialize the undersampling sampler\n",
    "# with auto, we actually lost 95% of the data, so let's use a specified sampling strategy\n",
    "strategy = {\n",
    "    0: 200,  # Reduce from 508 to 200\n",
    "    1: 400,  # Reduce from 917 to 400\n",
    "    2: 300,  # Reduce from 730 to 300\n",
    "    3: 250,  # Reduce from 477 to 250\n",
    "    4: 150,  # Reduce from 285 to 150\n",
    "    5: 100,  # Reduce from 167 to 100\n",
    "    6: 90,   # Keep close to 93 (unchanged)\n",
    "    7: 29    # Keep as-is\n",
    "}# sampler = RandomUnderSampler(sampling_strategy=strategy, random_state=321)\n",
    "sampler = ClusterCentroids(sampling_strategy=strategy)\n",
    "\n",
    "# perform undersampling\n",
    "X_resampled, y_resampled = sampler.fit_resample(X, y)\n",
    "\n",
    "# reconstruct the dataframe\n",
    "df_resampled = pd.DataFrame(X_resampled, columns=variables)\n",
    "df_resampled['target_binned'] = y_resampled"
   ]
  },
  {
   "cell_type": "code",
   "execution_count": 52,
   "metadata": {},
   "outputs": [
    {
     "data": {
      "text/html": [
       "<div>\n",
       "<style scoped>\n",
       "    .dataframe tbody tr th:only-of-type {\n",
       "        vertical-align: middle;\n",
       "    }\n",
       "\n",
       "    .dataframe tbody tr th {\n",
       "        vertical-align: top;\n",
       "    }\n",
       "\n",
       "    .dataframe thead th {\n",
       "        text-align: right;\n",
       "    }\n",
       "</style>\n",
       "<table border=\"1\" class=\"dataframe\">\n",
       "  <thead>\n",
       "    <tr style=\"text-align: right;\">\n",
       "      <th></th>\n",
       "      <th>Page Views</th>\n",
       "      <th>Session Duration</th>\n",
       "      <th>Bounce Rate</th>\n",
       "      <th>Traffic Source</th>\n",
       "      <th>Time on Page</th>\n",
       "      <th>Previous Visits</th>\n",
       "      <th>Conversion Rate</th>\n",
       "      <th>target_binned</th>\n",
       "    </tr>\n",
       "  </thead>\n",
       "  <tbody>\n",
       "    <tr>\n",
       "      <th>0</th>\n",
       "      <td>6</td>\n",
       "      <td>2.40</td>\n",
       "      <td>0.18</td>\n",
       "      <td>3</td>\n",
       "      <td>0.91</td>\n",
       "      <td>0</td>\n",
       "      <td>1.00</td>\n",
       "      <td>0</td>\n",
       "    </tr>\n",
       "    <tr>\n",
       "      <th>1</th>\n",
       "      <td>3</td>\n",
       "      <td>4.91</td>\n",
       "      <td>0.20</td>\n",
       "      <td>0</td>\n",
       "      <td>0.20</td>\n",
       "      <td>1</td>\n",
       "      <td>0.98</td>\n",
       "      <td>0</td>\n",
       "    </tr>\n",
       "    <tr>\n",
       "      <th>2</th>\n",
       "      <td>4</td>\n",
       "      <td>1.26</td>\n",
       "      <td>0.22</td>\n",
       "      <td>2</td>\n",
       "      <td>1.10</td>\n",
       "      <td>3</td>\n",
       "      <td>1.00</td>\n",
       "      <td>0</td>\n",
       "    </tr>\n",
       "    <tr>\n",
       "      <th>3</th>\n",
       "      <td>7</td>\n",
       "      <td>9.23</td>\n",
       "      <td>0.19</td>\n",
       "      <td>1</td>\n",
       "      <td>0.83</td>\n",
       "      <td>3</td>\n",
       "      <td>1.00</td>\n",
       "      <td>0</td>\n",
       "    </tr>\n",
       "    <tr>\n",
       "      <th>4</th>\n",
       "      <td>7</td>\n",
       "      <td>1.77</td>\n",
       "      <td>0.21</td>\n",
       "      <td>0</td>\n",
       "      <td>1.39</td>\n",
       "      <td>0</td>\n",
       "      <td>0.99</td>\n",
       "      <td>0</td>\n",
       "    </tr>\n",
       "    <tr>\n",
       "      <th>...</th>\n",
       "      <td>...</td>\n",
       "      <td>...</td>\n",
       "      <td>...</td>\n",
       "      <td>...</td>\n",
       "      <td>...</td>\n",
       "      <td>...</td>\n",
       "      <td>...</td>\n",
       "      <td>...</td>\n",
       "    </tr>\n",
       "    <tr>\n",
       "      <th>1514</th>\n",
       "      <td>6</td>\n",
       "      <td>1.83</td>\n",
       "      <td>0.17</td>\n",
       "      <td>1</td>\n",
       "      <td>10.81</td>\n",
       "      <td>1</td>\n",
       "      <td>1.00</td>\n",
       "      <td>7</td>\n",
       "    </tr>\n",
       "    <tr>\n",
       "      <th>1515</th>\n",
       "      <td>2</td>\n",
       "      <td>0.32</td>\n",
       "      <td>0.38</td>\n",
       "      <td>2</td>\n",
       "      <td>10.74</td>\n",
       "      <td>4</td>\n",
       "      <td>1.00</td>\n",
       "      <td>7</td>\n",
       "    </tr>\n",
       "    <tr>\n",
       "      <th>1516</th>\n",
       "      <td>5</td>\n",
       "      <td>0.80</td>\n",
       "      <td>0.24</td>\n",
       "      <td>4</td>\n",
       "      <td>10.93</td>\n",
       "      <td>0</td>\n",
       "      <td>1.00</td>\n",
       "      <td>7</td>\n",
       "    </tr>\n",
       "    <tr>\n",
       "      <th>1517</th>\n",
       "      <td>3</td>\n",
       "      <td>3.93</td>\n",
       "      <td>0.08</td>\n",
       "      <td>2</td>\n",
       "      <td>10.78</td>\n",
       "      <td>1</td>\n",
       "      <td>1.00</td>\n",
       "      <td>7</td>\n",
       "    </tr>\n",
       "    <tr>\n",
       "      <th>1518</th>\n",
       "      <td>6</td>\n",
       "      <td>0.53</td>\n",
       "      <td>0.17</td>\n",
       "      <td>4</td>\n",
       "      <td>10.89</td>\n",
       "      <td>2</td>\n",
       "      <td>1.00</td>\n",
       "      <td>7</td>\n",
       "    </tr>\n",
       "  </tbody>\n",
       "</table>\n",
       "<p>1519 rows × 8 columns</p>\n",
       "</div>"
      ],
      "text/plain": [
       "      Page Views  Session Duration  Bounce Rate  Traffic Source  Time on Page  \\\n",
       "0              6              2.40         0.18               3          0.91   \n",
       "1              3              4.91         0.20               0          0.20   \n",
       "2              4              1.26         0.22               2          1.10   \n",
       "3              7              9.23         0.19               1          0.83   \n",
       "4              7              1.77         0.21               0          1.39   \n",
       "...          ...               ...          ...             ...           ...   \n",
       "1514           6              1.83         0.17               1         10.81   \n",
       "1515           2              0.32         0.38               2         10.74   \n",
       "1516           5              0.80         0.24               4         10.93   \n",
       "1517           3              3.93         0.08               2         10.78   \n",
       "1518           6              0.53         0.17               4         10.89   \n",
       "\n",
       "      Previous Visits  Conversion Rate  target_binned  \n",
       "0                   0             1.00              0  \n",
       "1                   1             0.98              0  \n",
       "2                   3             1.00              0  \n",
       "3                   3             1.00              0  \n",
       "4                   0             0.99              0  \n",
       "...               ...              ...            ...  \n",
       "1514                1             1.00              7  \n",
       "1515                4             1.00              7  \n",
       "1516                0             1.00              7  \n",
       "1517                1             1.00              7  \n",
       "1518                2             1.00              7  \n",
       "\n",
       "[1519 rows x 8 columns]"
      ]
     },
     "execution_count": 52,
     "metadata": {},
     "output_type": "execute_result"
    }
   ],
   "source": [
    "df_resampled"
   ]
  },
  {
   "cell_type": "code",
   "execution_count": null,
   "metadata": {},
   "outputs": [
    {
     "data": {
      "text/plain": [
       "<Axes: xlabel='Time on Page', ylabel='Count'>"
      ]
     },
     "execution_count": 53,
     "metadata": {},
     "output_type": "execute_result"
    },
    {
     "data": {
      "image/png": "[encoded data removed]",
      "text/plain": [
       "<Figure size 640x480 with 1 Axes>"
      ]
     },
     "metadata": {},
     "output_type": "display_data"
    }
   ],
   "source": [
    "# the distribution is a bit closer to normal distribution\n",
    "sns.histplot(data=df_resampled, x=\"Time on Page\", kde=True)"
   ]
  }
 ],
 "metadata": {
  "kernelspec": {
   "display_name": "Python 3",
   "language": "python",
   "name": "python3"
  },
  "language_info": {
   "codemirror_mode": {
    "name": "ipython",
    "version": 3
   },
   "file_extension": ".py",
   "mimetype": "text/x-python",
   "name": "python",
   "nbconvert_exporter": "python",
   "pygments_lexer": "ipython3",
   "version": "3.10.11"
  }
 },
 "nbformat": 4,
 "nbformat_minor": 2
}
